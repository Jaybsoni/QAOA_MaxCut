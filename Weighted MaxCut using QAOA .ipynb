{
 "cells": [
  {
   "cell_type": "code",
   "execution_count": null,
   "metadata": {},
   "outputs": [],
   "source": [
    "import networkx as nx\n",
    "import numpy as np\n",
    "import random\n",
    "import qiskit\n",
    "\n",
    "random.seed(1) # set random seed "
   ]
  },
  {
   "cell_type": "code",
   "execution_count": null,
   "metadata": {},
   "outputs": [],
   "source": [
    "def max_cut_qaoa(graph, p=1): \n",
    "    num_qubits = len(graph.nodes) \n",
    "    circ = qiskit.QuantumCircuit(num_qubits) \n",
    "    \n",
    "    # Initialize each qubit to an equal superposition of the basis states \n",
    "    circ.h(range(num_qubits))\n",
    "    \n",
    "    circ.barrier() \n",
    "    \n",
    "    # Apply the respective hamiltonians \n",
    "    alpha = np.random(0, 2*np.pi, p) # learnable parameters    \n",
    "    beta = np.random(0, np.pi, p)    # learnable parameters\n",
    "    \n",
    "    max_cut_group = [] \n",
    "    max_cut_value = 0\n",
    "    \n",
    "    return max_cut_group, max_cut_value\n",
    "\n",
    "def cost_hamiltonian(graph): \n",
    "    "
   ]
  }
 ],
 "metadata": {
  "kernelspec": {
   "display_name": "Python 3",
   "language": "python",
   "name": "python3"
  },
  "language_info": {
   "codemirror_mode": {
    "name": "ipython",
    "version": 3
   },
   "file_extension": ".py",
   "mimetype": "text/x-python",
   "name": "python",
   "nbconvert_exporter": "python",
   "pygments_lexer": "ipython3",
   "version": "3.7.4"
  }
 },
 "nbformat": 4,
 "nbformat_minor": 2
}
